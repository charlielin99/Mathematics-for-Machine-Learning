{
 "cells": [
  {
   "cell_type": "markdown",
   "metadata": {},
   "source": [
    "# Week 3 Assessment: Orthogonal Projections"
   ]
  },
  {
   "cell_type": "markdown",
   "metadata": {},
   "source": [
    "## Learning Objectives\n",
    "\n",
    "In this week, we will write functions which perform orthogonal projections.\n",
    "\n",
    "By the end of this week, you should be able to\n",
    "\n",
    "1. Write code that projects data onto lower-dimensional subspaces.\n",
    "2. Understand the real world applications of projections.\n",
    "\n",
    "We highlight some tips and tricks which would be useful when you implement numerical \n",
    "algorithms that you have never encountered before. \n",
    "You are invited to think about these concepts when you \n",
    "write your program. \n",
    "\n",
    "The important thing is to learn to map from mathematical equations to code. It is not always\n",
    "easy to do so, but you will get better at it with more practice.\n",
    "\n",
    "We will apply this to project high-dimensional face images onto lower dimensional basis which we call \"eigenfaces\". We will also revisit the problem of linear regression, but from the perspective of solving normal equations,\n",
    "the concept which you apply to derive the formula for orthogonal projections. We will apply this to predict housing \n",
    "prices for the Boston housing dataset, which is a classic example in machine learning."
   ]
  },
  {
   "cell_type": "code",
   "execution_count": null,
   "metadata": {
    "collapsed": true
   },
   "outputs": [],
   "source": [
    "# PACKAGE: DO NOT EDIT\n",
    "import matplotlib\n",
    "matplotlib.use('Agg')\n",
    "import matplotlib.pyplot as plt\n",
    "plt.style.use('fivethirtyeight')\n",
    "import numpy as np"
   ]
  },
  {
   "cell_type": "code",
   "execution_count": null,
   "metadata": {
    "collapsed": true
   },
   "outputs": [],
   "source": [
    "from sklearn.datasets import fetch_olivetti_faces, fetch_lfw_people\n",
    "from ipywidgets import interact\n",
    "%matplotlib inline\n",
    "image_shape = (64, 64)\n",
    "# Load faces data\n",
    "dataset = fetch_olivetti_faces()\n",
    "faces = dataset.data"
   ]
  },
  {
   "cell_type": "markdown",
   "metadata": {},
   "source": [
    "### Advice for testing numerical algorithms\n",
    "\n",
    "Testing machine learning algorithms (or numerical algorithms in general)\n",
    "is sometimes really hard as it depends on the dataset\n",
    "to produce an answer, and you will never be able to test your algorithm on all the datasets\n",
    "we have in the world. Nevertheless, we have some tips for you to help you identify bugs in\n",
    "your implementations.\n",
    "\n",
    "#### 1. Test on small dataset\n",
    "Test your algorithms on small dataset: datasets of size 1 or 2 sometimes will suffice. This\n",
    "is useful because you can (if necessary) compute the answers by hand and compare them with\n",
    "the answers produced by the computer program you wrote. In fact, these small datasets can even have special numbers,\n",
    "which will allow you to compute the answers by hand easily.\n",
    "\n",
    "#### 2. Find invariants\n",
    "Invariants refer to properties of your algorithm and functions that are maintained regardless\n",
    "of the input. We will highlight this point later in this notebook where you will see functions,\n",
    "which will check invariants for some of the answers you produce.\n",
    "\n",
    "Invariants you may want to look for:\n",
    "1. Does your algorithm always produce a positive/negative answer, or a positive definite matrix?\n",
    "2. If the algorithm is iterative, do the intermediate results increase/decrease monotonically?\n",
    "3. Does your solution relate with your input in some interesting way, e.g. orthogonality? \n",
    "\n",
    "When you have a set of invariants, you can generate random inputs and make \n",
    "assertions about these invariants. This is sometimes known as [fuzzing](https://en.wikipedia.org/wiki/Fuzzing), which has proven to be a very effective technique for identifying bugs in programs.\n",
    "\n",
    "Finding invariants is hard, and sometimes there simply isn't any invariant. However, DO take advantage of them if you can find them. They are the most powerful checks when you have them."
   ]
  },
  {
   "cell_type": "markdown",
   "metadata": {},
   "source": [
    "## 1. Orthogonal Projections"
   ]
  },
  {
   "cell_type": "markdown",
   "metadata": {},
   "source": [
    "Recall that for projection of a vector $x$ onto a 1-dimensional subspace $U$ with basis vector $\\boldsymbol b$ we have\n",
    "\n",
    "$${\\pi_U}(\\boldsymbol x) = \\frac{\\boldsymbol b\\boldsymbol b^T}{{\\lVert \\boldsymbol b \\rVert}^2}\\boldsymbol x $$\n",
    "\n",
    "And for the general projection onto an M-dimensional subspace $U$ with basis vectors $\\boldsymbol b_1,\\dotsc, \\boldsymbol b_M$ we have\n",
    "\n",
    "$${\\pi_U}(\\boldsymbol x) = \\boldsymbol B(\\boldsymbol B^T\\boldsymbol B)^{-1}\\boldsymbol B^T\\boldsymbol x $$\n",
    "\n",
    "where \n",
    "\n",
    "$$\\boldsymbol B = (\\boldsymbol b_1|...|\\boldsymbol b_M)$$\n",
    "\n",
    "\n",
    "Your task is to implement orthogonal projections. We can split this into two steps\n",
    "1. Find the projection matrix $\\boldsymbol P$ that projects any $\\boldsymbol x$ onto $U$.\n",
    "2. The projected vector $\\pi_U(\\boldsymbol x)$ of $\\boldsymbol x$ can then be written as $\\pi_U(\\boldsymbol x) = \\boldsymbol P\\boldsymbol x$."
   ]
  },
  {
   "cell_type": "markdown",
   "metadata": {},
   "source": [
    "Note that for orthogonal projections, we have the following invariants:"
   ]
  },
  {
   "cell_type": "code",
   "execution_count": null,
   "metadata": {
    "collapsed": true
   },
   "outputs": [],
   "source": [
    "import numpy.testing as np_test\n",
    "def test_property_projection_matrix(P):\n",
    "    \"\"\"Test if the projection matrix satisfies certain properties.\n",
    "    In particular, we should have P @ P = P, and P = P^T\n",
    "    \"\"\"\n",
    "    np_test.assert_almost_equal(P, P @ P)\n",
    "    np_test.assert_almost_equal(P, P.T)\n",
    "\n",
    "def test_property_projection(x, p):\n",
    "    \"\"\"Test orthogonality of x and its projection p.\"\"\"\n",
    "    np_test.assert_almost_equal(np.dot(p-x, p), 0)"
   ]
  },
  {
   "cell_type": "code",
   "execution_count": null,
   "metadata": {
    "collapsed": true
   },
   "outputs": [],
   "source": [
    "# GRADED FUNCTION: DO NOT EDIT THIS LINE\n",
    "# Projection 1d\n",
    "\n",
    "# ===YOU SHOULD EDIT THIS FUNCTION===\n",
    "def projection_matrix_1d(b):\n",
    "    \"\"\"Compute the projection matrix onto the space spanned by `b`\n",
    "    Args:\n",
    "        b: ndarray of dimension (D,), the basis for the subspace\n",
    "    \n",
    "    Returns:\n",
    "        P: the projection matrix\n",
    "    \"\"\"\n",
    "    D, = b.shape\n",
    "    P = np.eye(D) # EDIT THIS\n",
    "    return P\n",
    "\n",
    "# ===YOU SHOULD EDIT THIS FUNCTION===\n",
    "def project_1d(x, b):\n",
    "    \"\"\"Compute the projection matrix onto the space spanned by `b`\n",
    "    Args:\n",
    "        x: the vector to be projected\n",
    "        b: ndarray of dimension (D,), the basis for the subspace\n",
    "    \n",
    "    Returns:\n",
    "        y: projection of x in space spanned by b\n",
    "    \"\"\"\n",
    "    p = np.zeros(3) # EDIT THIS\n",
    "    return p\n",
    "\n",
    "# Projection onto general subspace\n",
    "# ===YOU SHOULD EDIT THIS FUNCTION===\n",
    "def projection_matrix_general(B):\n",
    "    \"\"\"Compute the projection matrix onto the space spanned by `B`\n",
    "    Args:\n",
    "        B: ndarray of dimension (D, M), the basis for the subspace\n",
    "    \n",
    "    Returns:\n",
    "        P: the projection matrix\n",
    "    \"\"\"\n",
    "    P = np.eye(B.shape[0]) # EDIT THIS\n",
    "    return P\n",
    "\n",
    "# ===YOU SHOULD EDIT THIS FUNCTION===\n",
    "def project_general(x, B):\n",
    "    \"\"\"Compute the projection matrix onto the space spanned by `B`\n",
    "    Args:\n",
    "        B: ndarray of dimension (D, E), the basis for the subspace\n",
    "    \n",
    "    Returns:\n",
    "        y: projection of x in space spanned by b\n",
    "    \"\"\"\n",
    "    p = np.zeros(x.shape) # EDIT THIS\n",
    "    return p"
   ]
  },
  {
   "cell_type": "markdown",
   "metadata": {},
   "source": [
    "We have included some unittest for you to test your implementation."
   ]
  },
  {
   "cell_type": "code",
   "execution_count": null,
   "metadata": {
    "collapsed": true
   },
   "outputs": [],
   "source": [
    "# Orthogonal projection in 2d\n",
    "# define basis vector for subspace\n",
    "b = np.array([2,1]).reshape(-1,1)\n",
    "# point to be projected later\n",
    "x = np.array([1,2]).reshape(-1, 1)"
   ]
  },
  {
   "cell_type": "code",
   "execution_count": null,
   "metadata": {
    "collapsed": true
   },
   "outputs": [],
   "source": [
    "# Test 1D\n",
    "np_test.assert_almost_equal(projection_matrix_1d(np.array([1, 2, 2])), \n",
    "                            np.array([[1,  2,  2],\n",
    "                                      [2,  4,  4],\n",
    "                                      [2,  4,  4]]) / 9)\n",
    "\n",
    "np_test.assert_almost_equal(project_1d(np.ones(3),\n",
    "                                       np.array([1, 2, 2])),\n",
    "                            np.array([5, 10, 10]) / 9)\n",
    "\n",
    "B = np.array([[1, 0],\n",
    "              [1, 1],\n",
    "              [1, 2]])\n",
    "\n",
    "# Test General\n",
    "np_test.assert_almost_equal(projection_matrix_general(B), \n",
    "                            np.array([[5,  2, -1],\n",
    "                                      [2,  2,  2],\n",
    "                                      [-1, 2,  5]]) / 6)\n",
    "\n",
    "np_test.assert_almost_equal(project_general(np.array([6, 0, 0]), B), \n",
    "                            np.array([5, 2, -1]))\n",
    "print('correct')"
   ]
  },
  {
   "cell_type": "code",
   "execution_count": null,
   "metadata": {
    "collapsed": true
   },
   "outputs": [],
   "source": [
    "# Write your own test cases here, use random inputs, utilize the invariants we have!"
   ]
  },
  {
   "cell_type": "markdown",
   "metadata": {},
   "source": [
    "## 2. Eigenfaces  (optional)\n",
    "\n",
    "Next, we will take a look at what happens if we project some dataset consisting of human faces onto some basis we call\n",
    "the \"eigenfaces\"."
   ]
  },
  {
   "cell_type": "code",
   "execution_count": null,
   "metadata": {
    "collapsed": true
   },
   "outputs": [],
   "source": [
    "from sklearn.datasets import fetch_olivetti_faces, fetch_lfw_people\n",
    "from ipywidgets import interact\n",
    "%matplotlib inline\n",
    "image_shape = (64, 64)\n",
    "# Load faces data\n",
    "dataset = fetch_olivetti_faces()\n",
    "faces = dataset.data"
   ]
  },
  {
   "cell_type": "code",
   "execution_count": null,
   "metadata": {
    "collapsed": true
   },
   "outputs": [],
   "source": [
    "mean = faces.mean(axis=0)\n",
    "std = faces.std(axis=0)\n",
    "faces_normalized = (faces - mean) / std"
   ]
  },
  {
   "cell_type": "markdown",
   "metadata": {},
   "source": [
    "The data for the basis has been saved in a file named `eigenfaces.py`, first we load it into the variable B."
   ]
  },
  {
   "cell_type": "code",
   "execution_count": null,
   "metadata": {
    "collapsed": true
   },
   "outputs": [],
   "source": [
    "B = np.load('eigenfaces.npy')[:50] # we use the first 50 dimensions of the basis, you should play around with the dimension here.\n",
    "print(\"the eigenfaces have shape {}\".format(B.shape))"
   ]
  },
  {
   "cell_type": "markdown",
   "metadata": {},
   "source": [
    "Along the first dimension of B, each instance is a `64x64` image, an \"eigenface\". Let's visualize \n",
    "a few of them."
   ]
  },
  {
   "cell_type": "code",
   "execution_count": null,
   "metadata": {
    "collapsed": true
   },
   "outputs": [],
   "source": [
    "plt.figure(figsize=(10,10))\n",
    "plt.imshow(np.hstack(B[:5]), cmap='gray');"
   ]
  },
  {
   "cell_type": "markdown",
   "metadata": {},
   "source": [
    "Take a look at what happens if we project our faces onto the basis spanned by these \"eigenfaces\". This requires\n",
    "us to reshape B into the same shape as the matrix representing the basis as we have done earlier. Then we can \n",
    "reuse the functions we implemented earlier to compute the projection matrix and the projection. Complete the code below to visualize the reconstructed faces that lie on the subspace spanned by the \"eigenfaces\"."
   ]
  },
  {
   "cell_type": "code",
   "execution_count": null,
   "metadata": {
    "collapsed": true
   },
   "outputs": [],
   "source": [
    "@interact(i=(0, 10))\n",
    "def show_eigenface_reconstruction(i):\n",
    "    original_face = faces_normalized[i].reshape(64, 64)\n",
    "    # project original_face onto the vector space spanned by B_basis,\n",
    "    # you should take advantage of the functions you have implemented above\n",
    "    # to perform the projection. First, reshape B such that it represents the basis\n",
    "    # for the eigenfaces. Then perform orthogonal projection which would give you\n",
    "    # `face_reconstruction`.\n",
    "    B_basis = ???\n",
    "    face_reconstruction = ???\n",
    "    plt.figure()\n",
    "    plt.imshow(np.hstack([original_face, face_reconstruction]), cmap='gray')\n",
    "    plt.show()"
   ]
  },
  {
   "cell_type": "markdown",
   "metadata": {},
   "source": [
    "__Question__:\n",
    "\n",
    "What would happen to the reconstruction as we increase the dimension of our basis? \n",
    "\n",
    "Modify the code above to visualize it."
   ]
  },
  {
   "cell_type": "markdown",
   "metadata": {},
   "source": [
    "## 3. Least square for predicting Boston housing prices (optional)"
   ]
  },
  {
   "cell_type": "markdown",
   "metadata": {},
   "source": [
    "Consider the case where we have a linear model for predicting housing prices. We are predicting the housing prices based on features in the \n",
    "housing dataset. If we collect the features in a vector $\\boldsymbol{x}$, and the price of the houses as $y$. Assuming that we have \n",
    "a prediction model in the way such that $\\hat{y}_i =  f(\\boldsymbol {x}_i) = \\boldsymbol \\theta^T\\boldsymbol{x}_i$.\n",
    "\n",
    "If we collect the dataset of $n$ datapoints $\\boldsymbol x_i$ in a data matrix $\\boldsymbol X$, we can write down our model like this:\n",
    "\n",
    "$$\n",
    "\\begin{bmatrix} \n",
    "\\boldsymbol {x}_1^T \\\\\n",
    "\\vdots \\\\ \n",
    "\\boldsymbol {x}_n^T \n",
    "\\end{bmatrix} \\boldsymbol {\\theta} = \\begin{bmatrix} \n",
    "y_1 \\\\\n",
    "\\vdots \\\\ \n",
    "y_n \n",
    "\\end{bmatrix}.\n",
    "$$\n",
    "\n",
    "That is,\n",
    "\n",
    "$$\n",
    "\\boldsymbol X\\boldsymbol{\\theta} = \\boldsymbol {y}.\n",
    "$$\n",
    "where $\\boldsymbol y$ collects all house prices $y_1,\\dotsc, y_n$ of the training set.\n",
    "\n",
    "Our goal is to find the best $\\boldsymbol \\theta$ that minimizes the following (least squares) objective:\n",
    "\n",
    "$$\n",
    "\\begin{eqnarray} \n",
    "&\\sum^n_{i=1}{\\lVert \\boldsymbol \\theta^T\\boldsymbol {x}_i - y_i \\rVert^2} \\\\\n",
    "&= (\\boldsymbol X\\boldsymbol {\\theta} - \\boldsymbol y)^T(\\boldsymbol X\\boldsymbol {\\theta} - \\boldsymbol y).\n",
    "\\end{eqnarray}\n",
    "$$\n",
    "Note that we aim to minimize the squared error between the prediction $\\boldsymbol \\theta^T\\boldsymbol {x}_i$  of the model and the observed data point $y_i$ in the training set. \n",
    "\n",
    "To find the optimal (maximum likelihood) parameters $\\boldsymbol \\theta^*$, we set the gradient of the least-squares objective to $\\boldsymbol 0$:\n",
    "$$\n",
    "\\begin{eqnarray} \n",
    "\\nabla_{\\boldsymbol\\theta}(\\boldsymbol X{\\boldsymbol \\theta} - \\boldsymbol y)^T(\\boldsymbol X{\\boldsymbol \\theta} - \\boldsymbol y) &=& \\boldsymbol 0 \\\\\n",
    "\\iff \\nabla_{\\boldsymbol\\theta}(\\boldsymbol {\\theta}^T\\boldsymbol X^T - \\boldsymbol y^T)(\\boldsymbol X\\boldsymbol {\\theta} - \\boldsymbol y) &=& \\boldsymbol 0 \\\\\n",
    "\\iff \\nabla_{\\boldsymbol\\theta}(\\boldsymbol {\\theta}^T\\boldsymbol X^T\\boldsymbol X\\boldsymbol {\\theta} - \\boldsymbol y^T\\boldsymbol X\\boldsymbol \\theta - \\boldsymbol \\theta^T\\boldsymbol X^T\\boldsymbol y + \\boldsymbol y^T\\boldsymbol y ) &=& \\boldsymbol 0 \\\\\n",
    "\\iff 2\\boldsymbol X^T\\boldsymbol X\\boldsymbol \\theta - 2\\boldsymbol X^T\\boldsymbol y &=& \\boldsymbol 0 \\\\\n",
    "\\iff \\boldsymbol X^T\\boldsymbol X\\boldsymbol \\theta        &=& \\boldsymbol X^T\\boldsymbol y.\n",
    "\\end{eqnarray}\n",
    "$$\n",
    "\n",
    "The solution,\\boldsymbol  which gives zero gradient solves the __normal equation__\n",
    "\n",
    "$$\\boldsymbol X^T\\boldsymbol X\\boldsymbol \\theta = \\boldsymbol X^T\\boldsymbol y.$$\n",
    "\n",
    "If you recall from the lecture on projection onto n-dimensional subspace, this is exactly the same as the normal equation we have for projection (take a look at the notes [here](https://www.coursera.org/teach/mathematics-machine-learning-pca/content/edit/supplement/fQq8T/content) if you don't remember them).\n",
    "\n",
    "This means our optimal parameter vector, which minimizes our objective, is given by\n",
    "$$\\boldsymbol \\theta^* = (\\boldsymbol X^T\\boldsymbol X)^{-1}\\boldsymbol X^T\\boldsymbol y.$$ "
   ]
  },
  {
   "cell_type": "markdown",
   "metadata": {},
   "source": [
    "Let's put things into perspective and try to find the best parameter $\\theta^*$ \n",
    "of the line $y = \\theta x$, where $x,\\theta\\in\\mathbb{R}$ for a given a training set $\\boldsymbol X\\in\\mathbb{R}^n$ and $\\boldsymbol y\\in\\mathbb{R}^n$.\n",
    "\n",
    "Note that in our example, the features $x_i$ are only scalar, such that the parameter $\\theta$ is also only a scalar. The derivation above holds for general parameter vectors (not only for scalars).\n",
    "\n",
    "Note: This is exactly the same problem as linear regression which was discussed in [Mathematics for Machine Learning: Multivariate Calculus](https://www.coursera.org/teach/multivariate-calculus-machine-learning/content/edit/lecture/74ryq/video-subtitles). However, rather than finding the optimimal $\\theta^*$ with gradient descent, we can solve this using the normal equation."
   ]
  },
  {
   "cell_type": "code",
   "execution_count": null,
   "metadata": {
    "collapsed": true
   },
   "outputs": [],
   "source": [
    "x = np.linspace(0, 10, num=50)\n",
    "\n",
    "random = np.random.RandomState(42)  # we use the same random seed so we get deterministic output\n",
    "theta = random.randn()              # we use a random theta, our goal is to perform linear regression which finds theta_hat that minimizes the objective\n",
    "y = theta * x + random.rand(len(x)) # our theta is corrupted by some noise, so that we do not get (x,y) on a line\n",
    "\n",
    "plt.scatter(x, y);\n",
    "plt.xlabel('x');\n",
    "plt.ylabel('y');"
   ]
  },
  {
   "cell_type": "code",
   "execution_count": null,
   "metadata": {
    "collapsed": true
   },
   "outputs": [],
   "source": [
    "X = x.reshape(-1,1)\n",
    "Y = y.reshape(-1,1)\n",
    "\n",
    "theta_hat = np.linalg.solve(X.T @ X, \n",
    "                            X.T @ Y)"
   ]
  },
  {
   "cell_type": "markdown",
   "metadata": {},
   "source": [
    "We can show how our $\\hat{\\theta}$ fits the line."
   ]
  },
  {
   "cell_type": "code",
   "execution_count": null,
   "metadata": {
    "collapsed": true
   },
   "outputs": [],
   "source": [
    "fig, ax = plt.subplots()\n",
    "ax.scatter(x, y);\n",
    "xx = [0, 10]\n",
    "yy = [0, 10 * theta_hat[0,0]]\n",
    "ax.plot(xx, yy, 'red', alpha=.5);\n",
    "ax.set(xlabel='x', ylabel='y');\n",
    "print(\"theta = %f\" % theta)\n",
    "print(\"theta_hat = %f\" % theta_hat)"
   ]
  },
  {
   "cell_type": "markdown",
   "metadata": {},
   "source": [
    "What would happen to $\\lVert {\\theta^*} - \\theta \\rVert$ if we increased the number of datapoints?\n",
    "\n",
    "Make your hypothesis, and write a small program to confirm it!"
   ]
  },
  {
   "cell_type": "code",
   "execution_count": null,
   "metadata": {
    "collapsed": true
   },
   "outputs": [],
   "source": [
    "N = np.arange(10, 10000, step=10)\n",
    "# Your code here which calculates θ* for different sample size.\n"
   ]
  },
  {
   "cell_type": "markdown",
   "metadata": {},
   "source": [
    "We see how we can find the best $\\theta$. In fact, we can extend our methodology to higher dimensional dataset. Let's now try applying the same methodology to the boston housing prices dataset."
   ]
  },
  {
   "cell_type": "code",
   "execution_count": null,
   "metadata": {
    "collapsed": true
   },
   "outputs": [],
   "source": [
    "from sklearn.datasets import load_boston\n",
    "boston = load_boston()\n",
    "boston_X, boston_y = boston.data, boston.target\n",
    "print(\"The housing dataset has size {}\".format(boston_X.shape))\n",
    "print(\"The prices has size {}\".format(boston_X.shape))\n",
    "\n",
    "boston_theta_hat = np.zeros(3) ## EDIT THIS to predict boston_theta_hat"
   ]
  }
 ],
 "metadata": {
  "coursera": {
   "course_slug": "mathematics-machine-learning-pca",
   "graded_item_id": "5xKMs",
   "launcher_item_id": "Wu0av"
  },
  "kernelspec": {
   "display_name": "Python 3",
   "language": "python",
   "name": "python3"
  },
  "language_info": {
   "codemirror_mode": {
    "name": "ipython",
    "version": 3
   },
   "file_extension": ".py",
   "mimetype": "text/x-python",
   "name": "python",
   "nbconvert_exporter": "python",
   "pygments_lexer": "ipython3",
   "version": "3.6.0"
  }
 },
 "nbformat": 4,
 "nbformat_minor": 2
}
